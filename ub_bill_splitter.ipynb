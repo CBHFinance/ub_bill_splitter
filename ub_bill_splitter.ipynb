{
 "cells": [
  {
   "cell_type": "markdown",
   "id": "294af8f2",
   "metadata": {},
   "source": [
    "# UB File Splitter\n",
    "\n",
    "##### Instructions:\n",
    "\n",
    "1. Enter the route.\n",
    "2. Enter the commit.\n",
    "3. Upload the file to process.\n",
    "4. Click the \"Process File\" button.<br></br>"
   ]
  },
  {
   "cell_type": "code",
   "execution_count": 142,
   "id": "5ce5bde4",
   "metadata": {},
   "outputs": [],
   "source": [
    "from collections import Counter \n",
    "import os\n",
    "import pdfplumber\n",
    "from PyPDF2 import PdfReader, PdfWriter\n",
    "import ipywidgets as widgets"
   ]
  },
  {
   "cell_type": "code",
   "execution_count": 144,
   "id": "7df9140457caed5e",
   "metadata": {
    "jupyter": {
     "is_executing": true
    }
   },
   "outputs": [],
   "source": [
    "output = widgets.Output()\n",
    "\n",
    "def create_text_input(description, value):\n",
    "    return widgets.Text(description=description, value=value)\n",
    "\n",
    "form_item_layout = widgets.Layout(\n",
    "    display='flex',\n",
    "    flex_flow='row',\n",
    "    justify_content='space-between',\n",
    "    height='50px'\n",
    ")\n",
    "\n",
    "route_input = create_text_input('Route:', '')\n",
    "commit_input = create_text_input('Commit:', '')\n",
    "file_input = widgets.FileUpload(accept='.pdf', multiple=False, layout=widgets.Layout())\n",
    "\n",
    "submit_button = widgets.Button(\n",
    "    description='Process Files',\n",
    "    disabled=False,\n",
    "    button_style='info', # 'success', 'info', 'warning', 'danger' or ''\n",
    "    tooltip='Process Files',\n",
    "    icon='check' # (FontAwesome names without the `fa-` prefix)\n",
    ")\n",
    "\n",
    "form_items = [\n",
    "    widgets.Box([route_input, commit_input], layout=form_item_layout),\n",
    "    widgets.Box([widgets.Label(value='Munis File Upload:'), file_input], layout=form_item_layout),\n",
    "    widgets.Box([submit_button], layout=form_item_layout)\n",
    "]\n",
    "\n",
    "form = widgets.Box(form_items, layout=widgets.Layout(\n",
    "    display='flex',\n",
    "    flex_flow='column',\n",
    "    # border='solid 2px',\n",
    "    align_items='center',\n",
    "    width='100%',\n",
    "))\n",
    "\n",
    "\n"
   ]
  },
  {
   "cell_type": "code",
   "execution_count": 145,
   "id": "cd9a2838-f385-4403-bb2a-b017612ce5d8",
   "metadata": {},
   "outputs": [
    {
     "data": {
      "application/vnd.jupyter.widget-view+json": {
       "model_id": "4d9bfb28156d40f5a22dd99c2109fdc6",
       "version_major": 2,
       "version_minor": 0
      },
      "text/plain": [
       "Box(children=(Box(children=(Text(value='', description='Route:'), Text(value='', description='Commit:')), layo…"
      ]
     },
     "metadata": {},
     "output_type": "display_data"
    },
    {
     "data": {
      "application/vnd.jupyter.widget-view+json": {
       "model_id": "2669184a6669492bb79dc9969476da86",
       "version_major": 2,
       "version_minor": 0
      },
      "text/plain": [
       "Output()"
      ]
     },
     "metadata": {},
     "output_type": "display_data"
    }
   ],
   "source": [
    "\n",
    "\n",
    "multi_bill_page_numbers = []\n",
    "single_bill_page_num_buffer = []\n",
    "\n",
    "def on_button_clicked(b):\n",
    "    with output:\n",
    "        single_page_filename = f\"Route_{route_input.value}-{commit_input.value}-single-page-bills.pdf\"\n",
    "        multi_page_filename = f\"Route_{route_input.value}-{commit_input.value}-multi-page-bills.pdf\"\n",
    "\n",
    "        pdf_file_path = file_input.value[0]\n",
    "        single_page_filepath = os.path.join('/', single_page_filename)\n",
    "        multi_page_filepath = os.path.join('/', multi_page_filename)\n",
    "        \n",
    "\n",
    "        print(output)\n",
    "        print(route_input.value)\n",
    "        \n",
    "        with pdfplumber.open(pdf_file_path) as pdf:\n",
    "            total_pages = len(pdf.pages)\n",
    "            print(f\"Total Pages: {total_pages}\")\n",
    "            previous_bill_number = ''\n",
    "\n",
    "            for i in range(1, total_pages+1, 1):\n",
    "                page = pdf.pages[i-1]\n",
    "                page_text = page.extract_text().split('\\n')\n",
    "                bounding_box = (249.1, 50.8887, 306.7, 69.8)\n",
    "                crop_area = page.crop(bounding_box)\n",
    "                crop_text = crop_area.extract_text().split('\\n')\n",
    "\n",
    "                if crop_text == previous_bill_number:\n",
    "                    multi_bill_page_numbers.append(i-1)\n",
    "                    multi_bill_page_numbers.append(i)\n",
    "                else:\n",
    "                    single_bill_page_num_buffer.append(i)\n",
    "\n",
    "                previous_bill_number = crop_text\n",
    "\n",
    "\n",
    "        single_bill_page_numbers = list((Counter(single_bill_page_num_buffer) - Counter(multi_bill_page_numbers)).elements())\n",
    "\n",
    "        pdf = PdfReader(pdf_file_path)\n",
    "        pdfWriter = PdfWriter()\n",
    "        \n",
    "        print(f\"List of Multi-Page Bill Pages: {multi_bill_page_numbers}\")\n",
    "\n",
    "        for multi_page_num in multi_bill_page_numbers:\n",
    "            pdfWriter.add_page(pdf.pages[multi_page_num-1])\n",
    "\n",
    "            with open(multi_page_filepath, 'wb') as f:\n",
    "                pdfWriter.write(f)\n",
    "                f.close()\n",
    "\n",
    "\n",
    "        print(f\"List of Single Bill Pages: {single_bill_page_numbers}\")\n",
    "\n",
    "        pdf = PdfReader(pdf_file_path)\n",
    "        pdfWriter = PdfWriter()\n",
    "\n",
    "        for single_page_num in single_bill_page_numbers:\n",
    "            pdfWriter.add_page(pdf.pages[single_page_num-1])\n",
    "\n",
    "            with open(single_page_filepath, 'wb') as f:\n",
    "                pdfWriter.write(f)\n",
    "                f.close()\n",
    "\n",
    "        print(\"Go to Output Files to Download the Processed Bill Files\")\n",
    "        \n",
    "        \n",
    "        \n",
    "        \n",
    "        \n",
    "        \n",
    "        \n",
    "display(form, output)\n",
    "submit_button.on_click(on_button_clicked)"
   ]
  }
 ],
 "metadata": {
  "kernelspec": {
   "display_name": "Python 3 (ipykernel)",
   "language": "python",
   "name": "python3"
  },
  "language_info": {
   "codemirror_mode": {
    "name": "ipython",
    "version": 3
   },
   "file_extension": ".py",
   "mimetype": "text/x-python",
   "name": "python",
   "nbconvert_exporter": "python",
   "pygments_lexer": "ipython3",
   "version": "3.12.3"
  }
 },
 "nbformat": 4,
 "nbformat_minor": 5
}
