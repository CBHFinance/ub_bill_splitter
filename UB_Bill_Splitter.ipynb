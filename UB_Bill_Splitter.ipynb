{
 "cells": [
  {
   "cell_type": "code",
   "execution_count": 1,
   "metadata": {},
   "outputs": [],
   "source": [
    "import mercury as mr\n",
    "import os\n",
    "import pdfplumber\n",
    "from PyPDF2 import PdfReader, PdfWriter\n",
    "from collections import Counter\n",
    "import pandas as pd\n",
    "from IPython.display import display, HTML"
   ]
  },
  {
   "cell_type": "code",
   "execution_count": 2,
   "metadata": {},
   "outputs": [
    {
     "data": {
      "application/mercury+json": {
       "allow_download": true,
       "allow_share": true,
       "code_uid": "App.0.50.110.1-rand9ba90d77",
       "continuous_update": true,
       "description": "Utility to split Munis-generated bill files into single and multi page bill files.",
       "full_screen": true,
       "model_id": "mercury-app",
       "notify": "{}",
       "output": "app",
       "schedule": "",
       "show_code": false,
       "show_prompt": false,
       "show_sidebar": true,
       "static_notebook": false,
       "stop_on_error": false,
       "title": "UB Bill File Splitter",
       "widget": "App"
      },
      "text/html": [
       "<h3>Mercury Application</h3><small>This output won't appear in the web app.</small>"
      ],
      "text/plain": [
       "mercury.App"
      ]
     },
     "metadata": {},
     "output_type": "display_data"
    }
   ],
   "source": [
    "app = mr.App(\n",
    "    title=\"UB Bill File Splitter\", \n",
    "    description=\"Utility to split Munis-generated bill files into single and multi page bill files.\",\n",
    "    show_code=False,\n",
    "    show_prompt=False,\n",
    "    continuous_update=True,\n",
    "    static_notebook=False,\n",
    "    show_sidebar=True,\n",
    "    full_screen=True,\n",
    "    allow_download=True,\n",
    "    allow_share=True,\n",
    ")"
   ]
  },
  {
   "cell_type": "markdown",
   "metadata": {},
   "source": [
    "# UB Bill Splitter\n",
    "\n",
    "### Instructions:<br><br/>\n",
    "#### 1. Enter the Route\n",
    "#### 2. Enter the Commit\n",
    "#### 3. Upload a file to process\n",
    "#### 4. Click Process File<br><br/>\n",
    "#### When the file is done processing, a message will appear below.  Go to the Output Files tab on the left to download the processed files. "
   ]
  },
  {
   "cell_type": "code",
   "execution_count": null,
   "metadata": {},
   "outputs": [],
   "source": [
    "route_input = mr.Text(label=\"Route\", value=\"\")\n",
    "commit_input = mr.Text(label=\"Commit\", value=\"\")\n",
    "munis_bill_file_input = mr.File(label=\"Munis Bill File\", max_file_size=\"100MB\")\n",
    "\n",
    "submit_button = mr.Button(\n",
    "    label=\"Process File\", \n",
    "    style=\"primary\",\n",
    ")"
   ]
  },
  {
   "cell_type": "code",
   "execution_count": 3,
   "metadata": {},
   "outputs": [
    {
     "data": {
      "application/mercury+json": {
       "code_uid": "Text.0.50.78.1-rand596ef673",
       "disabled": false,
       "hidden": false,
       "label": "Route",
       "model_id": "1e72f7305d544a17bfe163bcd3b226d3",
       "rows": 1,
       "sanitize": true,
       "url_key": "",
       "value": "",
       "widget": "Text"
      },
      "application/vnd.jupyter.widget-view+json": {
       "model_id": "1e72f7305d544a17bfe163bcd3b226d3",
       "version_major": 2,
       "version_minor": 0
      },
      "text/plain": [
       "mercury.Text"
      ]
     },
     "metadata": {},
     "output_type": "display_data"
    },
    {
     "data": {
      "application/mercury+json": {
       "code_uid": "Text.0.50.78.2-rand6807a6b8",
       "disabled": false,
       "hidden": false,
       "label": "Commit",
       "model_id": "2a57b390ca504827bd8ac7005ccd7e16",
       "rows": 1,
       "sanitize": true,
       "url_key": "",
       "value": "",
       "widget": "Text"
      },
      "application/vnd.jupyter.widget-view+json": {
       "model_id": "2a57b390ca504827bd8ac7005ccd7e16",
       "version_major": 2,
       "version_minor": 0
      },
      "text/plain": [
       "mercury.Text"
      ]
     },
     "metadata": {},
     "output_type": "display_data"
    },
    {
     "data": {
      "application/mercury+json": {
       "code_uid": "File.0.50.74.3-randdbf3bf0b",
       "disabled": false,
       "hidden": false,
       "label": "Munis Bill File",
       "max_file_size": "100MB",
       "model_id": "7c395705cff54d74a003642311915125",
       "widget": "File"
      },
      "application/vnd.jupyter.widget-view+json": {
       "model_id": "7c395705cff54d74a003642311915125",
       "version_major": 2,
       "version_minor": 0
      },
      "text/plain": [
       "mercury.File"
      ]
     },
     "metadata": {},
     "output_type": "display_data"
    },
    {
     "data": {
      "application/mercury+json": {
       "code_uid": "Button.0.50.58.13-randa3408615",
       "disabled": true,
       "hidden": false,
       "label": "Process File",
       "model_id": "e14f962416ca4fc18a9596de889da7a3",
       "style": "primary",
       "value": false,
       "widget": "Button"
      },
      "application/vnd.jupyter.widget-view+json": {
       "model_id": "e14f962416ca4fc18a9596de889da7a3",
       "version_major": 2,
       "version_minor": 0
      },
      "text/plain": [
       "mercury.Button"
      ]
     },
     "metadata": {},
     "output_type": "display_data"
    },
    {
     "data": {
      "application/mercury+json": {
       "code_uid": "OutputDir.0.50.18.21-randf485629b",
       "model_id": "output-dir",
       "widget": "OutputDir"
      },
      "text/html": [
       "<h3>Output Directory</h3><small>This output won't appear in the web app.</small>"
      ],
      "text/plain": [
       "mercury.OutputDir"
      ]
     },
     "metadata": {},
     "output_type": "display_data"
    }
   ],
   "source": [
    "multi_bill_page_numbers = []\n",
    "single_bill_page_num_buffer = []\n",
    "save_folder = mr.OutputDir()"
   ]
  },
  {
   "cell_type": "code",
   "execution_count": null,
   "metadata": {},
   "outputs": [],
   "source": [
    "route = route_input.value\n",
    "commit = commit_input.value\n",
    "single_page_filename = f\"Route_{route}-{commit}-single-page-bills.pdf\"\n",
    "multi_page_filename = f\"Route_{route}-{commit}-multi-page-bills.pdf\"\n",
    "\n",
    "pdf_file_path = munis_bill_file_input.filepath\n",
    "single_page_filepath = os.path.join(save_folder.path, single_page_filename)\n",
    "multi_page_filepath = os.path.join(save_folder.path, multi_page_filename)\n",
    "\n",
    "\n",
    "\n",
    "if submit_button.clicked and len(route) > 0 and len(commit) > 0 and munis_bill_file_input :\n",
    "    with pdfplumber.open(pdf_file_path) as pdf:\n",
    "        total_pages = len(pdf.pages)\n",
    "        print(f\"Total Pages: {total_pages}\")\n",
    "        previous_bill_number = ''\n",
    "\n",
    "        for i in range(1, total_pages+1, 1):\n",
    "            page = pdf.pages[i-1]\n",
    "            page_text = page.extract_text().split('\\n')\n",
    "            bounding_box = (249.1, 50.8887, 306.7, 69.8)\n",
    "            crop_area = page.crop(bounding_box)\n",
    "            crop_text = crop_area.extract_text().split('\\n')\n",
    "\n",
    "            if crop_text == previous_bill_number:\n",
    "                multi_bill_page_numbers.append(i-1)\n",
    "                multi_bill_page_numbers.append(i)\n",
    "            else:\n",
    "                single_bill_page_num_buffer.append(i)\n",
    "\n",
    "            previous_bill_number = crop_text\n",
    "\n",
    "\n",
    "    single_bill_page_numbers = list((Counter(single_bill_page_num_buffer) - Counter(multi_bill_page_numbers)).elements())\n",
    "\n",
    "    pdf = PdfReader(pdf_file_path)\n",
    "    pdfWriter = PdfWriter()\n",
    "    \n",
    "    print(f\"List of Multi-Page Bill Pages: {multi_bill_page_numbers}\")\n",
    "\n",
    "    for multi_page_num in multi_bill_page_numbers:\n",
    "        pdfWriter.add_page(pdf.pages[multi_page_num-1])\n",
    "\n",
    "        with open(multi_page_filepath, 'wb') as f:\n",
    "            pdfWriter.write(f)\n",
    "            f.close()\n",
    "\n",
    "\n",
    "    print(f\"List of Single Bill Pages: {single_bill_page_numbers}\")\n",
    "\n",
    "    pdf = PdfReader(pdf_file_path)\n",
    "    pdfWriter = PdfWriter()\n",
    "\n",
    "    for single_page_num in single_bill_page_numbers:\n",
    "        pdfWriter.add_page(pdf.pages[single_page_num-1])\n",
    "\n",
    "        with open(single_page_filepath, 'wb') as f:\n",
    "            pdfWriter.write(f)\n",
    "            f.close()\n",
    "\n",
    "    print(\"Go to Output Files to Download the Processed Bill Files\")\n",
    "\n",
    "\n"
   ]
  }
 ],
 "metadata": {
  "kernelspec": {
   "display_name": ".venv",
   "language": "python",
   "name": "python3"
  },
  "language_info": {
   "codemirror_mode": {
    "name": "ipython",
    "version": 3
   },
   "file_extension": ".py",
   "mimetype": "text/x-python",
   "name": "python",
   "nbconvert_exporter": "python",
   "pygments_lexer": "ipython3",
   "version": "3.8.12"
  }
 },
 "nbformat": 4,
 "nbformat_minor": 2
}
